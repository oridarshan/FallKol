{
 "cells": [
  {
   "cell_type": "code",
   "execution_count": null,
   "id": "ddf5d15c",
   "metadata": {
    "pycharm": {
     "name": "#%%\n"
    }
   },
   "outputs": [],
   "source": [
    "import librosa\n",
    "import pandas as pd\n",
    "import numpy as np\n",
    "import matplotlib.pyplot as plt\n",
    "%matplotlib inline\n",
    "import os\n",
    "from PIL import Image\n",
    "import pathlib\n",
    "from pathlib import Path\n",
    "import csv\n",
    "import seaborn as sns\n",
    "from sklearn.model_selection import train_test_split\n",
    "from sklearn.preprocessing import LabelEncoder, StandardScaler\n",
    "import keras\n",
    "from keras import layers\n",
    "import keras\n",
    "from keras.models import Sequential\n",
    "from tensorflow import metrics\n",
    "from sklearn.metrics import confusion_matrix\n",
    "import joblib\n",
    "import warnings\n",
    "warnings.filterwarnings('ignore')"
   ]
  },
  {
   "cell_type": "markdown",
   "id": "824310b8",
   "metadata": {
    "pycharm": {
     "name": "#%% md\n"
    }
   },
   "source": [
    "**Step 1:**  \n",
    "Convert audio files into PNG format images (or extracting the Spectrogram for every audio file)"
   ]
  },
  {
   "cell_type": "code",
   "execution_count": null,
   "id": "84aae4e7",
   "metadata": {
    "pycharm": {
     "name": "#%%\n"
    }
   },
   "outputs": [],
   "source": [
    "cmap = plt.get_cmap('inferno')\n",
    "plt.figure(figsize=(8,8))\n",
    "# pathlib.Path(f'/image_data').\n",
    "path = Path('/Users/netan/PycharmProjects/Fallkall/Data/')\n",
    "path_image = path_audio / 'image_data'\n",
    "path_image.mkdir(parents=True, exist_ok=True) \n",
    "path = Path('/Users/netan/PycharmProjects/Fallkall/Data/Audio')\n",
    "for file_name in os.listdir(path):\n",
    "    file_path = f'/Users/netan/PycharmProjects/Fallkall/Data/Audio/{filename}'\n",
    "    audio, sample_rate = librosa.core.load(file_path, mono=True)\n",
    "    plt.specgram(audio, NFFT=2048, Fs=2, Fc=0, noverlap=128, cmap=cmap, sides='default', mode='default', scale='dB')\n",
    "    plt.axis('off')\n",
    "    plt.savefig(f'{path_image}/{file_name[:-3].replace(\".\", \"\")}.png')\n",
    "    plt.clf()"
   ]
  },
  {
   "cell_type": "markdown",
   "id": "a40019cf",
   "metadata": {
    "pycharm": {
     "name": "#%% md\n"
    }
   },
   "source": [
    "**Step 2:**     \n",
    "Creating a header for the CSV file."
   ]
  },
  {
   "cell_type": "code",
   "execution_count": null,
   "id": "285ed3e8",
   "metadata": {
    "pycharm": {
     "name": "#%%\n"
    }
   },
   "outputs": [],
   "source": [
    "header = 'file_name chroma_stft rms spectral_centroid spectral_bandwidth rolloff zero_crossing_rate'\n",
    "for i in range(1, 21):\n",
    "    header += f' mfcc{i}'\n",
    "header += ' classified'\n",
    "header = header.split()\n",
    "# header"
   ]
  },
  {
   "cell_type": "markdown",
   "id": "1a70ee82",
   "metadata": {
    "pycharm": {
     "name": "#%% md\n"
    }
   },
   "source": [
    "**Step 3:**   \n",
    "Extracting features from Spectogram such as  Mel-frequency cepstral coefficients (MFCC), Spectral Centroid, Zero Crossing Rate, Chroma Frequencies, and Spectral Roll-off."
   ]
  },
  {
   "cell_type": "code",
   "execution_count": null,
   "id": "3abad4ad",
   "metadata": {
    "pycharm": {
     "name": "#%%\n"
    }
   },
   "outputs": [],
   "source": [
    "file = open('dataset.csv', 'w', newline='')\n",
    "with file:\n",
    "    writer = csv.writer(file)\n",
    "    writer.writerow(header)\n",
    "    for file_name in os.listdir(path):\n",
    "            file_path = f'/Users/netan/PycharmProjects/Fallkall/Data/Audio/{file_name}'\n",
    "            audio, sample_rate = librosa.load(file_path, mono=True)\n",
    "            rms = librosa.feature.rms(y=audio)\n",
    "            chroma_stft = librosa.feature.chroma_stft(y=audio, sr=sample_rate)\n",
    "            spec_cent = librosa.feature.spectral_centroid(y=audio, sr=sample_rate)\n",
    "            spec_bw = librosa.feature.spectral_bandwidth(y=audio, sr=sample_rate)\n",
    "            rolloff = librosa.feature.spectral_rolloff(y=audio, sr=sample_rate)\n",
    "            zcr = librosa.feature.zero_crossing_rate(y=audio)\n",
    "            mfcc = librosa.feature.mfcc(y=audio, sr=sample_rate)\n",
    "            to_append = f'{file_name} {np.mean(chroma_stft)} {np.mean(rms)} {np.mean(spec_cent)} {np.mean(spec_bw)} {np.mean(rolloff)} {np.mean(zcr)}'    \n",
    "            for e in mfcc:\n",
    "                to_append += f' {np.mean(e)}'\n",
    "            to_append += ' true' if 'not' not in file_name else ' false'\n",
    "#             print()\n",
    "#             print(to_append)\n",
    "#             print()\n",
    "            file = open('dataset.csv', 'a', newline='')\n",
    "            with file:\n",
    "                writer = csv.writer(file)\n",
    "                writer.writerow(to_append.split())"
   ]
  },
  {
   "cell_type": "code",
   "execution_count": null,
   "id": "d53cb544",
   "metadata": {
    "pycharm": {
     "name": "#%%\n"
    }
   },
   "outputs": [],
   "source": [
    "data = pd.read_csv('dataset.csv')\n",
    "data = data.drop(data.index[0])\n",
    "data = data.sample(frac=1)\n",
    "# data.head(50)\n",
    "data = data.drop(['file_name'],axis=1)"
   ]
  },
  {
   "cell_type": "code",
   "execution_count": null,
   "id": "f7031f0f",
   "metadata": {
    "pycharm": {
     "name": "#%%\n"
    }
   },
   "outputs": [],
   "source": [
    "# data.dtypes"
   ]
  },
  {
   "cell_type": "markdown",
   "id": "8b030382",
   "metadata": {
    "pycharm": {
     "name": "#%% md\n"
    }
   },
   "source": [
    "**Step 4:**  \n",
    "Data preprocessing: It involves loading CSV data, label encoding, feature scaling and data split into training and test set."
   ]
  },
  {
   "cell_type": "code",
   "execution_count": null,
   "id": "e690c025",
   "metadata": {
    "pycharm": {
     "name": "#%%\n"
    }
   },
   "outputs": [],
   "source": [
    "#Encoding the Labels\n",
    "hasFallen = data.iloc[:, -1]\n",
    "encoder = LabelEncoder()\n",
    "y = encoder.fit_transform(hasFallen) #Scaling the Feature columns\n",
    "scaler = StandardScaler()\n",
    "X = scaler.fit_transform(np.array(data.iloc[:, :-1], dtype = float)) #Dividing data into training and Testing set\n",
    "X_train, X_test, y_train, y_test = train_test_split(X, y, test_size=0.3)"
   ]
  },
  {
   "cell_type": "markdown",
   "id": "a2bf4b25",
   "metadata": {
    "pycharm": {
     "name": "#%% md\n"
    }
   },
   "source": [
    "**Step 5:**    \n",
    "Building an ANN model."
   ]
  },
  {
   "cell_type": "code",
   "execution_count": null,
   "id": "92c2476f",
   "metadata": {
    "pycharm": {
     "name": "#%%\n"
    }
   },
   "outputs": [],
   "source": [
    "model = Sequential()\n",
    "model.add(layers.Dense(256, activation='relu', input_shape=(X_train.shape[1],)))\n",
    "model.add(layers.Dense(128, activation='relu'))\n",
    "model.add(layers.Dense(64, activation='relu'))\n",
    "model.add(layers.Dense(2, activation='softmax'))\n",
    "model.compile(optimizer='adam',\n",
    "              loss='sparse_categorical_crossentropy',\n",
    "              metrics=['accuracy'])"
   ]
  },
  {
   "cell_type": "markdown",
   "id": "d766cc80",
   "metadata": {
    "pycharm": {
     "name": "#%% md\n"
    }
   },
   "source": [
    "**Step 6:**   \n",
    "Fit the model."
   ]
  },
  {
   "cell_type": "code",
   "execution_count": null,
   "id": "fb1244d9",
   "metadata": {
    "pycharm": {
     "name": "#%%\n"
    }
   },
   "outputs": [],
   "source": [
    "model.fit(X_train, y_train, epochs=100, batch_size=128)"
   ]
  },
  {
   "cell_type": "code",
   "execution_count": null,
   "id": "cbec2899",
   "metadata": {
    "pycharm": {
     "name": "#%%\n"
    }
   },
   "outputs": [],
   "source": [
    "\n",
    "scores = model.evaluate(X_test, y_test, verbose=0)\n",
    "print(\"%s: %.2f%%\" % (model.metrics_names[1], scores[1]*100))"
   ]
  },
  {
   "cell_type": "code",
   "execution_count": null,
   "id": "d921646c",
   "metadata": {
    "pycharm": {
     "name": "#%%\n"
    }
   },
   "outputs": [],
   "source": [
    "joblib.dump(model,'trained_model.joblib')"
   ]
  },
  {
   "cell_type": "code",
   "execution_count": null,
   "id": "01c80b20",
   "metadata": {
    "pycharm": {
     "name": "#%%\n"
    }
   },
   "outputs": [],
   "source": [
    "ans = model.predict(X_test)"
   ]
  },
  {
   "cell_type": "code",
   "execution_count": null,
   "id": "501b63d7",
   "metadata": {
    "pycharm": {
     "name": "#%%\n"
    }
   },
   "outputs": [],
   "source": [
    "ans2 = np.zeros(len(ans))\n",
    "for i in range(len(ans)):\n",
    "#     print(ans[i][0], \"---\", ans[i][1])\n",
    "    if ans[i][0] > ans[i][1]:\n",
    "        ans2[i] = 0\n",
    "    else:\n",
    "        ans2[i] = 1"
   ]
  },
  {
   "cell_type": "code",
   "execution_count": null,
   "id": "3133f4e8",
   "metadata": {
    "pycharm": {
     "name": "#%%\n"
    }
   },
   "outputs": [],
   "source": [
    "sns.heatmap(confusion_matrix(y_test, ans2), cmap = \"Blues\", annot=True, fmt = '.0f')"
   ]
  },
  {
   "cell_type": "code",
   "execution_count": null,
   "outputs": [],
   "source": [
    "ans = model.predict(X_test)"
   ],
   "metadata": {
    "collapsed": false,
    "pycharm": {
     "name": "#%%\n"
    }
   }
  },
  {
   "cell_type": "code",
   "execution_count": null,
   "outputs": [],
   "source": [
    "ans2 = np.zeros(len(ans))\n",
    "for i in range(len(ans)):\n",
    "#     print(ans[i][0], \"---\", ans[i][1])\n",
    "    if ans[i][0] > ans[i][1]:\n",
    "        ans2[i] = 0\n",
    "    else:\n",
    "        ans2[i] = 1"
   ],
   "metadata": {
    "collapsed": false,
    "pycharm": {
     "name": "#%%\n"
    }
   }
  },
  {
   "cell_type": "code",
   "execution_count": null,
   "outputs": [],
   "source": [
    "sns.heatmap(confusion_matrix(y_test, ans2), cmap = \"Blues\", annot=True, fmt = '.0f')"
   ],
   "metadata": {
    "collapsed": false,
    "pycharm": {
     "name": "#%%\n"
    }
   }
  },
  {
   "cell_type": "code",
   "execution_count": null,
   "outputs": [],
   "source": [],
   "metadata": {
    "collapsed": false,
    "pycharm": {
     "name": "#%%\n"
    }
   }
  },
  {
   "cell_type": "code",
   "execution_count": 194,
   "id": "552a6c46-33cc-481f-9854-a631dc9197e5",
   "metadata": {
    "pycharm": {
     "name": "#%%\n"
    }
   },
   "outputs": [],
   "source": [
    "ans2 = np.zeros(len(ans))\n",
    "for i in range(len(ans)):\n",
    "#     print(ans[i][0], \"---\", ans[i][1])\n",
    "    if ans[i][0] > ans[i][1]:\n",
    "        ans2[i] = 0\n",
    "    else:\n",
    "        ans2[i] = 1"
   ]
  },
  {
   "cell_type": "code",
   "execution_count": 195,
   "id": "24997bbf",
   "metadata": {},
   "outputs": [
    {
     "data": {
      "text/plain": [
       "<AxesSubplot:>"
      ]
     },
     "execution_count": 195,
     "metadata": {},
     "output_type": "execute_result"
    },
    {
     "data": {
      "image/png": "[encoded data removed]",
      "text/plain": [
       "<Figure size 432x288 with 2 Axes>"
      ]
     },
     "metadata": {
      "needs_background": "light"
     },
     "output_type": "display_data"
    }
   ],
   "source": [
    "sns.heatmap(confusion_matrix(y_test, ans2), cmap = \"Blues\", annot=True, fmt = '.0f')"
   ]
  },
  {
   "cell_type": "code",
   "execution_count": null,
   "id": "8012d479",
   "metadata": {},
   "outputs": [],
   "source": []
  }
 ],
 "metadata": {
  "kernelspec": {
   "display_name": "Python 3 (ipykernel)",
   "language": "python",
   "name": "python3"
  },
  "language_info": {
   "codemirror_mode": {
    "name": "ipython",
    "version": 3
   },
   "file_extension": ".py",
   "mimetype": "text/x-python",
   "name": "python",
   "nbconvert_exporter": "python",
   "pygments_lexer": "ipython3",
   "version": "3.9.12"
  }
 },
 "nbformat": 4,
 "nbformat_minor": 5
}