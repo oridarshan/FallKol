{
 "cells": [
  {
   "cell_type": "code",
   "execution_count": 1,
   "id": "ddf5d15c",
   "metadata": {
    "pycharm": {
     "name": "#%%\n"
    }
   },
   "outputs": [],
   "source": [
    "import librosa\n",
    "import pandas as pd\n",
    "import numpy as np\n",
    "import matplotlib.pyplot as plt\n",
    "%matplotlib inline\n",
    "import os\n",
    "from PIL import Image\n",
    "import pathlib\n",
    "from pathlib import Path\n",
    "import csv\n",
    "import seaborn as sns\n",
    "from sklearn.model_selection import train_test_split\n",
    "from sklearn.preprocessing import LabelEncoder, StandardScaler\n",
    "import keras\n",
    "from keras import layers\n",
    "import keras\n",
    "from keras.models import Sequential\n",
    "from tensorflow import metrics\n",
    "from sklearn.metrics import confusion_matrix\n",
    "import joblib\n",
    "import warnings\n",
    "warnings.filterwarnings('ignore')"
   ]
  },
  {
   "cell_type": "markdown",
   "id": "824310b8",
   "metadata": {
    "pycharm": {
     "name": "#%% md\n"
    }
   },
   "source": [
    "**Step 1:**  \n",
    "Convert audio files into PNG format images (or extracting the Spectrogram for every audio file)"
   ]
  },
  {
   "cell_type": "code",
   "execution_count": 2,
   "id": "84aae4e7",
   "metadata": {
    "pycharm": {
     "name": "#%%\n"
    }
   },
   "outputs": [
    {
     "data": {
      "text/plain": [
       "<Figure size 576x576 with 0 Axes>"
      ]
     },
     "metadata": {},
     "output_type": "display_data"
    }
   ],
   "source": [
    "cmap = plt.get_cmap('inferno')\n",
    "plt.figure(figsize=(8,8))\n",
    "# pathlib.Path(f'/image_data').\n",
    "path = Path('Data/')\n",
    "path_image = path / 'image_data'\n",
    "path_image.mkdir(parents=True, exist_ok=True) \n",
    "path = Path('Data/Audio')\n",
    "for file_name in os.listdir(path):\n",
    "    file_path = f'Data/Audio/{file_name}'\n",
    "    audio, sample_rate = librosa.core.load(file_path, mono=True)\n",
    "    plt.specgram(audio, NFFT=2048, Fs=2, Fc=0, noverlap=128, cmap=cmap, sides='default', mode='default', scale='dB')\n",
    "    plt.axis('off')\n",
    "    plt.savefig(f'{path_image}/{file_name[:-3].replace(\".\", \"\")}.png')\n",
    "    plt.clf()"
   ]
  },
  {
   "cell_type": "markdown",
   "id": "a40019cf",
   "metadata": {
    "pycharm": {
     "name": "#%% md\n"
    }
   },
   "source": [
    "**Step 2:**     \n",
    "Creating a header for the CSV file."
   ]
  },
  {
   "cell_type": "code",
   "execution_count": 3,
   "id": "285ed3e8",
   "metadata": {
    "pycharm": {
     "name": "#%%\n"
    }
   },
   "outputs": [],
   "source": [
    "header = 'file_name chroma_stft rms spectral_centroid spectral_bandwidth rolloff zero_crossing_rate'\n",
    "for i in range(1, 21):\n",
    "    header += f' mfcc{i}'\n",
    "header += ' classified'\n",
    "header = header.split()\n",
    "# header"
   ]
  },
  {
   "cell_type": "markdown",
   "id": "1a70ee82",
   "metadata": {
    "pycharm": {
     "name": "#%% md\n"
    }
   },
   "source": [
    "**Step 3:**   \n",
    "Extracting features from Spectogram such as  Mel-frequency cepstral coefficients (MFCC), Spectral Centroid, Zero Crossing Rate, Chroma Frequencies, and Spectral Roll-off."
   ]
  },
  {
   "cell_type": "code",
   "execution_count": 4,
   "id": "3abad4ad",
   "metadata": {
    "pycharm": {
     "name": "#%%\n"
    }
   },
   "outputs": [],
   "source": [
    "file = open('dataset.csv', 'w', newline='')\n",
    "with file:\n",
    "    writer = csv.writer(file)\n",
    "    writer.writerow(header)\n",
    "    for file_name in os.listdir(path):\n",
    "            file_path = f'Data/Audio/{file_name}'\n",
    "            audio, sample_rate = librosa.load(file_path, mono=True)\n",
    "            rms = librosa.feature.rms(y=audio)\n",
    "            chroma_stft = librosa.feature.chroma_stft(y=audio, sr=sample_rate)\n",
    "            spec_cent = librosa.feature.spectral_centroid(y=audio, sr=sample_rate)\n",
    "            spec_bw = librosa.feature.spectral_bandwidth(y=audio, sr=sample_rate)\n",
    "            rolloff = librosa.feature.spectral_rolloff(y=audio, sr=sample_rate)\n",
    "            zcr = librosa.feature.zero_crossing_rate(y=audio)\n",
    "            mfcc = librosa.feature.mfcc(y=audio, sr=sample_rate)\n",
    "            to_append = f'{file_name} {np.mean(chroma_stft)} {np.mean(rms)} {np.mean(spec_cent)} {np.mean(spec_bw)} {np.mean(rolloff)} {np.mean(zcr)}'    \n",
    "            for e in mfcc:\n",
    "                to_append += f' {np.mean(e)}'\n",
    "            to_append += ' true' if 'not' not in file_name else ' false'\n",
    "#             print()\n",
    "#             print(to_append)\n",
    "#             print()\n",
    "            file = open('dataset.csv', 'a', newline='')\n",
    "            with file:\n",
    "                writer = csv.writer(file)\n",
    "                writer.writerow(to_append.split())"
   ]
  },
  {
   "cell_type": "code",
   "execution_count": 5,
   "id": "d53cb544",
   "metadata": {
    "pycharm": {
     "name": "#%%\n"
    }
   },
   "outputs": [],
   "source": [
    "data = pd.read_csv('dataset.csv')\n",
    "data = data.drop(data.index[0])\n",
    "data = data.sample(frac=1)\n",
    "# data.head(50)\n",
    "data = data.drop(['file_name'],axis=1)"
   ]
  },
  {
   "cell_type": "code",
   "execution_count": 6,
   "id": "f7031f0f",
   "metadata": {
    "pycharm": {
     "name": "#%%\n"
    }
   },
   "outputs": [],
   "source": [
    "# data.dtypes"
   ]
  },
  {
   "cell_type": "markdown",
   "id": "8b030382",
   "metadata": {
    "pycharm": {
     "name": "#%% md\n"
    }
   },
   "source": [
    "**Step 4:**  \n",
    "Data preprocessing: It involves loading CSV data, label encoding, feature scaling and data split into training and test set."
   ]
  },
  {
   "cell_type": "code",
   "execution_count": 7,
   "id": "e690c025",
   "metadata": {
    "pycharm": {
     "name": "#%%\n"
    }
   },
   "outputs": [],
   "source": [
    "#Encoding the Labels\n",
    "hasFallen = data.iloc[:, -1]\n",
    "encoder = LabelEncoder()\n",
    "y = encoder.fit_transform(hasFallen) #Scaling the Feature columns\n",
    "scaler = StandardScaler()\n",
    "X = scaler.fit_transform(np.array(data.iloc[:, :-1], dtype = float)) #Dividing data into training and Testing set\n",
    "X_train, X_test, y_train, y_test = train_test_split(X, y, test_size=0.3)"
   ]
  },
  {
   "cell_type": "markdown",
   "id": "a2bf4b25",
   "metadata": {
    "pycharm": {
     "name": "#%% md\n"
    }
   },
   "source": [
    "**Step 5:**    \n",
    "Building an ANN model."
   ]
  },
  {
   "cell_type": "code",
   "execution_count": 8,
   "id": "92c2476f",
   "metadata": {
    "pycharm": {
     "name": "#%%\n"
    }
   },
   "outputs": [],
   "source": [
    "model = Sequential()\n",
    "model.add(layers.Dense(256, activation='relu', input_shape=(X_train.shape[1],)))\n",
    "model.add(layers.Dense(128, activation='relu'))\n",
    "model.add(layers.Dense(64, activation='relu'))\n",
    "model.add(layers.Dense(2, activation='softmax'))\n",
    "model.compile(optimizer='adam',\n",
    "              loss='sparse_categorical_crossentropy',\n",
    "              metrics=['accuracy'])"
   ]
  },
  {
   "cell_type": "markdown",
   "id": "d766cc80",
   "metadata": {
    "pycharm": {
     "name": "#%% md\n"
    }
   },
   "source": [
    "**Step 6:**   \n",
    "Fit the model."
   ]
  },
  {
   "cell_type": "code",
   "execution_count": 9,
   "id": "fb1244d9",
   "metadata": {
    "pycharm": {
     "name": "#%%\n"
    }
   },
   "outputs": [
    {
     "name": "stdout",
     "output_type": "stream",
     "text": [
      "Epoch 1/100\n",
      "11/11 [==============================] - 1s 3ms/step - loss: 0.4778 - accuracy: 0.7421\n",
      "Epoch 2/100\n",
      "11/11 [==============================] - 0s 3ms/step - loss: 0.3400 - accuracy: 0.8725\n",
      "Epoch 3/100\n",
      "11/11 [==============================] - 0s 4ms/step - loss: 0.2622 - accuracy: 0.9118\n",
      "Epoch 4/100\n",
      "11/11 [==============================] - 0s 3ms/step - loss: 0.2025 - accuracy: 0.9306\n",
      "Epoch 5/100\n",
      "11/11 [==============================] - 0s 3ms/step - loss: 0.1505 - accuracy: 0.9457\n",
      "Epoch 6/100\n",
      "11/11 [==============================] - 0s 2ms/step - loss: 0.1217 - accuracy: 0.9600\n",
      "Epoch 7/100\n",
      "11/11 [==============================] - 0s 2ms/step - loss: 0.0989 - accuracy: 0.9653\n",
      "Epoch 8/100\n",
      "11/11 [==============================] - 0s 2ms/step - loss: 0.0811 - accuracy: 0.9744\n",
      "Epoch 9/100\n",
      "11/11 [==============================] - 0s 2ms/step - loss: 0.0707 - accuracy: 0.9751\n",
      "Epoch 10/100\n",
      "11/11 [==============================] - 0s 3ms/step - loss: 0.0576 - accuracy: 0.9811\n",
      "Epoch 11/100\n",
      "11/11 [==============================] - 0s 2ms/step - loss: 0.0445 - accuracy: 0.9842\n",
      "Epoch 12/100\n",
      "11/11 [==============================] - 0s 2ms/step - loss: 0.0331 - accuracy: 0.9902\n",
      "Epoch 13/100\n",
      "11/11 [==============================] - 0s 2ms/step - loss: 0.0282 - accuracy: 0.9940\n",
      "Epoch 14/100\n",
      "11/11 [==============================] - 0s 2ms/step - loss: 0.0267 - accuracy: 0.9917\n",
      "Epoch 15/100\n",
      "11/11 [==============================] - 0s 2ms/step - loss: 0.0203 - accuracy: 0.9940\n",
      "Epoch 16/100\n",
      "11/11 [==============================] - 0s 2ms/step - loss: 0.0150 - accuracy: 0.9977\n",
      "Epoch 17/100\n",
      "11/11 [==============================] - 0s 2ms/step - loss: 0.0159 - accuracy: 0.9962\n",
      "Epoch 18/100\n",
      "11/11 [==============================] - 0s 2ms/step - loss: 0.0202 - accuracy: 0.9955\n",
      "Epoch 19/100\n",
      "11/11 [==============================] - 0s 2ms/step - loss: 0.0140 - accuracy: 0.9970\n",
      "Epoch 20/100\n",
      "11/11 [==============================] - 0s 2ms/step - loss: 0.0093 - accuracy: 1.0000\n",
      "Epoch 21/100\n",
      "11/11 [==============================] - 0s 2ms/step - loss: 0.0082 - accuracy: 0.9992\n",
      "Epoch 22/100\n",
      "11/11 [==============================] - 0s 2ms/step - loss: 0.0065 - accuracy: 0.9992\n",
      "Epoch 23/100\n",
      "11/11 [==============================] - 0s 2ms/step - loss: 0.0061 - accuracy: 1.0000\n",
      "Epoch 24/100\n",
      "11/11 [==============================] - 0s 2ms/step - loss: 0.0054 - accuracy: 0.9992\n",
      "Epoch 25/100\n",
      "11/11 [==============================] - 0s 2ms/step - loss: 0.0048 - accuracy: 1.0000\n",
      "Epoch 26/100\n",
      "11/11 [==============================] - 0s 2ms/step - loss: 0.0081 - accuracy: 0.9977\n",
      "Epoch 27/100\n",
      "11/11 [==============================] - 0s 2ms/step - loss: 0.0075 - accuracy: 0.9970\n",
      "Epoch 28/100\n",
      "11/11 [==============================] - 0s 2ms/step - loss: 0.0147 - accuracy: 0.9917\n",
      "Epoch 29/100\n",
      "11/11 [==============================] - 0s 2ms/step - loss: 0.0191 - accuracy: 0.9902\n",
      "Epoch 30/100\n",
      "11/11 [==============================] - 0s 2ms/step - loss: 0.0149 - accuracy: 0.9947\n",
      "Epoch 31/100\n",
      "11/11 [==============================] - 0s 2ms/step - loss: 0.0152 - accuracy: 0.9955\n",
      "Epoch 32/100\n",
      "11/11 [==============================] - 0s 2ms/step - loss: 0.0275 - accuracy: 0.9894\n",
      "Epoch 33/100\n",
      "11/11 [==============================] - 0s 2ms/step - loss: 0.0072 - accuracy: 0.9977\n",
      "Epoch 34/100\n",
      "11/11 [==============================] - 0s 3ms/step - loss: 0.0042 - accuracy: 0.9992\n",
      "Epoch 35/100\n",
      "11/11 [==============================] - 0s 2ms/step - loss: 0.0025 - accuracy: 1.0000\n",
      "Epoch 36/100\n",
      "11/11 [==============================] - 0s 2ms/step - loss: 0.0019 - accuracy: 1.0000\n",
      "Epoch 37/100\n",
      "11/11 [==============================] - 0s 2ms/step - loss: 0.0017 - accuracy: 1.0000\n",
      "Epoch 38/100\n",
      "11/11 [==============================] - 0s 2ms/step - loss: 0.0015 - accuracy: 1.0000\n",
      "Epoch 39/100\n",
      "11/11 [==============================] - 0s 2ms/step - loss: 0.0013 - accuracy: 1.0000\n",
      "Epoch 40/100\n",
      "11/11 [==============================] - 0s 2ms/step - loss: 0.0012 - accuracy: 1.0000\n",
      "Epoch 41/100\n",
      "11/11 [==============================] - 0s 2ms/step - loss: 0.0011 - accuracy: 1.0000\n",
      "Epoch 42/100\n",
      "11/11 [==============================] - 0s 2ms/step - loss: 0.0011 - accuracy: 1.0000\n",
      "Epoch 43/100\n",
      "11/11 [==============================] - 0s 2ms/step - loss: 9.9539e-04 - accuracy: 1.0000\n",
      "Epoch 44/100\n",
      "11/11 [==============================] - 0s 2ms/step - loss: 9.4581e-04 - accuracy: 1.0000\n",
      "Epoch 45/100\n",
      "11/11 [==============================] - 0s 2ms/step - loss: 8.3074e-04 - accuracy: 1.0000\n",
      "Epoch 46/100\n",
      "11/11 [==============================] - 0s 2ms/step - loss: 7.9298e-04 - accuracy: 1.0000\n",
      "Epoch 47/100\n",
      "11/11 [==============================] - 0s 2ms/step - loss: 7.5229e-04 - accuracy: 1.0000\n",
      "Epoch 48/100\n",
      "11/11 [==============================] - 0s 2ms/step - loss: 7.1821e-04 - accuracy: 1.0000\n",
      "Epoch 49/100\n",
      "11/11 [==============================] - 0s 2ms/step - loss: 6.6719e-04 - accuracy: 1.0000\n",
      "Epoch 50/100\n",
      "11/11 [==============================] - 0s 2ms/step - loss: 6.3530e-04 - accuracy: 1.0000\n",
      "Epoch 51/100\n",
      "11/11 [==============================] - 0s 2ms/step - loss: 6.1727e-04 - accuracy: 1.0000\n",
      "Epoch 52/100\n",
      "11/11 [==============================] - 0s 2ms/step - loss: 6.7137e-04 - accuracy: 1.0000\n",
      "Epoch 53/100\n",
      "11/11 [==============================] - 0s 2ms/step - loss: 7.2031e-04 - accuracy: 1.0000\n",
      "Epoch 54/100\n",
      "11/11 [==============================] - 0s 2ms/step - loss: 6.2574e-04 - accuracy: 1.0000\n",
      "Epoch 55/100\n",
      "11/11 [==============================] - 0s 2ms/step - loss: 5.5644e-04 - accuracy: 1.0000\n",
      "Epoch 56/100\n",
      "11/11 [==============================] - 0s 2ms/step - loss: 5.2156e-04 - accuracy: 1.0000\n",
      "Epoch 57/100\n",
      "11/11 [==============================] - 0s 2ms/step - loss: 4.5653e-04 - accuracy: 1.0000\n",
      "Epoch 58/100\n",
      "11/11 [==============================] - 0s 2ms/step - loss: 4.3847e-04 - accuracy: 1.0000\n",
      "Epoch 59/100\n",
      "11/11 [==============================] - 0s 2ms/step - loss: 4.2665e-04 - accuracy: 1.0000\n",
      "Epoch 60/100\n",
      "11/11 [==============================] - 0s 2ms/step - loss: 4.1149e-04 - accuracy: 1.0000\n",
      "Epoch 61/100\n",
      "11/11 [==============================] - 0s 2ms/step - loss: 4.0793e-04 - accuracy: 1.0000\n",
      "Epoch 62/100\n",
      "11/11 [==============================] - 0s 2ms/step - loss: 3.8372e-04 - accuracy: 1.0000\n",
      "Epoch 63/100\n",
      "11/11 [==============================] - 0s 2ms/step - loss: 3.6112e-04 - accuracy: 1.0000\n",
      "Epoch 64/100\n",
      "11/11 [==============================] - 0s 2ms/step - loss: 3.5378e-04 - accuracy: 1.0000\n",
      "Epoch 65/100\n",
      "11/11 [==============================] - 0s 2ms/step - loss: 3.3132e-04 - accuracy: 1.0000\n",
      "Epoch 66/100\n",
      "11/11 [==============================] - 0s 4ms/step - loss: 3.2029e-04 - accuracy: 1.0000\n",
      "Epoch 67/100\n",
      "11/11 [==============================] - 0s 3ms/step - loss: 3.1075e-04 - accuracy: 1.0000\n",
      "Epoch 68/100\n",
      "11/11 [==============================] - 0s 4ms/step - loss: 3.0133e-04 - accuracy: 1.0000\n",
      "Epoch 69/100\n",
      "11/11 [==============================] - 0s 4ms/step - loss: 2.8841e-04 - accuracy: 1.0000\n",
      "Epoch 70/100\n",
      "11/11 [==============================] - 0s 3ms/step - loss: 2.8447e-04 - accuracy: 1.0000\n",
      "Epoch 71/100\n",
      "11/11 [==============================] - 0s 3ms/step - loss: 2.7484e-04 - accuracy: 1.0000\n",
      "Epoch 72/100\n",
      "11/11 [==============================] - 0s 2ms/step - loss: 2.6431e-04 - accuracy: 1.0000\n",
      "Epoch 73/100\n",
      "11/11 [==============================] - 0s 3ms/step - loss: 2.5750e-04 - accuracy: 1.0000\n",
      "Epoch 74/100\n",
      "11/11 [==============================] - 0s 3ms/step - loss: 2.5688e-04 - accuracy: 1.0000\n",
      "Epoch 75/100\n",
      "11/11 [==============================] - 0s 3ms/step - loss: 2.4319e-04 - accuracy: 1.0000\n",
      "Epoch 76/100\n",
      "11/11 [==============================] - 0s 2ms/step - loss: 2.3895e-04 - accuracy: 1.0000\n",
      "Epoch 77/100\n",
      "11/11 [==============================] - 0s 3ms/step - loss: 2.3387e-04 - accuracy: 1.0000\n",
      "Epoch 78/100\n",
      "11/11 [==============================] - 0s 2ms/step - loss: 2.2189e-04 - accuracy: 1.0000\n",
      "Epoch 79/100\n",
      "11/11 [==============================] - 0s 2ms/step - loss: 2.3264e-04 - accuracy: 1.0000\n",
      "Epoch 80/100\n",
      "11/11 [==============================] - 0s 2ms/step - loss: 2.1078e-04 - accuracy: 1.0000\n",
      "Epoch 81/100\n",
      "11/11 [==============================] - 0s 3ms/step - loss: 2.1680e-04 - accuracy: 1.0000\n",
      "Epoch 82/100\n",
      "11/11 [==============================] - 0s 3ms/step - loss: 2.0076e-04 - accuracy: 1.0000\n",
      "Epoch 83/100\n",
      "11/11 [==============================] - 0s 2ms/step - loss: 1.9634e-04 - accuracy: 1.0000\n",
      "Epoch 84/100\n",
      "11/11 [==============================] - 0s 2ms/step - loss: 1.8992e-04 - accuracy: 1.0000\n",
      "Epoch 85/100\n",
      "11/11 [==============================] - 0s 3ms/step - loss: 1.8814e-04 - accuracy: 1.0000\n",
      "Epoch 86/100\n",
      "11/11 [==============================] - 0s 2ms/step - loss: 1.8177e-04 - accuracy: 1.0000\n",
      "Epoch 87/100\n",
      "11/11 [==============================] - 0s 2ms/step - loss: 1.7822e-04 - accuracy: 1.0000\n",
      "Epoch 88/100\n",
      "11/11 [==============================] - 0s 2ms/step - loss: 1.7127e-04 - accuracy: 1.0000\n",
      "Epoch 89/100\n",
      "11/11 [==============================] - 0s 3ms/step - loss: 1.6807e-04 - accuracy: 1.0000\n",
      "Epoch 90/100\n",
      "11/11 [==============================] - 0s 2ms/step - loss: 1.6605e-04 - accuracy: 1.0000\n",
      "Epoch 91/100\n",
      "11/11 [==============================] - 0s 2ms/step - loss: 1.6267e-04 - accuracy: 1.0000\n",
      "Epoch 92/100\n",
      "11/11 [==============================] - 0s 3ms/step - loss: 1.5339e-04 - accuracy: 1.0000\n",
      "Epoch 93/100\n",
      "11/11 [==============================] - 0s 2ms/step - loss: 1.5290e-04 - accuracy: 1.0000\n",
      "Epoch 94/100\n",
      "11/11 [==============================] - 0s 2ms/step - loss: 1.4875e-04 - accuracy: 1.0000\n",
      "Epoch 95/100\n",
      "11/11 [==============================] - 0s 2ms/step - loss: 1.4508e-04 - accuracy: 1.0000\n",
      "Epoch 96/100\n",
      "11/11 [==============================] - 0s 3ms/step - loss: 1.4388e-04 - accuracy: 1.0000\n",
      "Epoch 97/100\n",
      "11/11 [==============================] - 0s 2ms/step - loss: 1.5006e-04 - accuracy: 1.0000\n",
      "Epoch 98/100\n",
      "11/11 [==============================] - 0s 2ms/step - loss: 1.3815e-04 - accuracy: 1.0000\n",
      "Epoch 99/100\n",
      "11/11 [==============================] - 0s 3ms/step - loss: 1.3520e-04 - accuracy: 1.0000\n",
      "Epoch 100/100\n",
      "11/11 [==============================] - 0s 2ms/step - loss: 1.3395e-04 - accuracy: 1.0000\n"
     ]
    },
    {
     "data": {
      "text/plain": [
       "<keras.callbacks.History at 0x288be70fc10>"
      ]
     },
     "execution_count": 9,
     "metadata": {},
     "output_type": "execute_result"
    }
   ],
   "source": [
    "model.fit(X_train, y_train, epochs=100, batch_size=128)"
   ]
  },
  {
   "cell_type": "code",
   "execution_count": 10,
   "id": "cbec2899",
   "metadata": {
    "pycharm": {
     "name": "#%%\n"
    }
   },
   "outputs": [
    {
     "name": "stdout",
     "output_type": "stream",
     "text": [
      "accuracy: 98.77%\n"
     ]
    }
   ],
   "source": [
    "\n",
    "scores = model.evaluate(X_test, y_test, verbose=0)\n",
    "print(\"%s: %.2f%%\" % (model.metrics_names[1], scores[1]*100))"
   ]
  },
  {
   "cell_type": "code",
   "execution_count": 11,
   "id": "d921646c",
   "metadata": {
    "pycharm": {
     "name": "#%%\n"
    }
   },
   "outputs": [
    {
     "name": "stdout",
     "output_type": "stream",
     "text": [
      "INFO:tensorflow:Assets written to: trained_model\\assets\n"
     ]
    }
   ],
   "source": [
    "# joblib.dump(model,'trained_model.joblib')\n",
    "model.save('trained_model')"
   ]
  },
  {
   "cell_type": "code",
   "execution_count": 12,
   "id": "01c80b20",
   "metadata": {
    "pycharm": {
     "name": "#%%\n"
    }
   },
   "outputs": [
    {
     "name": "stdout",
     "output_type": "stream",
     "text": [
      "18/18 [==============================] - 0s 2ms/step\n"
     ]
    }
   ],
   "source": [
    "ans = model.predict(X_test)"
   ]
  },
  {
   "cell_type": "code",
   "execution_count": 13,
   "id": "501b63d7",
   "metadata": {
    "pycharm": {
     "name": "#%%\n"
    }
   },
   "outputs": [],
   "source": [
    "ans2 = np.zeros(len(ans))\n",
    "for i in range(len(ans)):\n",
    "#     print(ans[i][0], \"---\", ans[i][1])\n",
    "    if ans[i][0] > ans[i][1]:\n",
    "        ans2[i] = 0\n",
    "    else:\n",
    "        ans2[i] = 1"
   ]
  },
  {
   "cell_type": "code",
   "execution_count": 14,
   "id": "3133f4e8",
   "metadata": {
    "pycharm": {
     "name": "#%%\n"
    }
   },
   "outputs": [
    {
     "data": {
      "text/plain": [
       "<AxesSubplot:>"
      ]
     },
     "execution_count": 14,
     "metadata": {},
     "output_type": "execute_result"
    },
    {
     "data": {
      "image/png": "[encoded data removed]",
      "text/plain": [
       "<Figure size 432x288 with 2 Axes>"
      ]
     },
     "metadata": {
      "needs_background": "light"
     },
     "output_type": "display_data"
    }
   ],
   "source": [
    "sns.heatmap(confusion_matrix(y_test, ans2), cmap = \"Blues\", annot=True, fmt = '.0f')"
   ]
  },
  {
   "cell_type": "code",
   "execution_count": 15,
   "metadata": {
    "collapsed": false,
    "pycharm": {
     "name": "#%%\n"
    }
   },
   "outputs": [
    {
     "name": "stdout",
     "output_type": "stream",
     "text": [
      "18/18 [==============================] - 0s 3ms/step\n"
     ]
    }
   ],
   "source": [
    "ans = model.predict(X_test)"
   ]
  },
  {
   "cell_type": "code",
   "execution_count": 16,
   "metadata": {
    "collapsed": false,
    "pycharm": {
     "name": "#%%\n"
    }
   },
   "outputs": [],
   "source": [
    "ans2 = np.zeros(len(ans))\n",
    "for i in range(len(ans)):\n",
    "#     print(ans[i][0], \"---\", ans[i][1])\n",
    "    if ans[i][0] > ans[i][1]:\n",
    "        ans2[i] = 0\n",
    "    else:\n",
    "        ans2[i] = 1"
   ]
  },
  {
   "cell_type": "code",
   "execution_count": 17,
   "metadata": {
    "collapsed": false,
    "pycharm": {
     "name": "#%%\n"
    }
   },
   "outputs": [
    {
     "data": {
      "text/plain": [
       "<AxesSubplot:>"
      ]
     },
     "execution_count": 17,
     "metadata": {},
     "output_type": "execute_result"
    },
    {
     "data": {
      "image/png": "[encoded data removed]",
      "text/plain": [
       "<Figure size 432x288 with 2 Axes>"
      ]
     },
     "metadata": {
      "needs_background": "light"
     },
     "output_type": "display_data"
    }
   ],
   "source": [
    "sns.heatmap(confusion_matrix(y_test, ans2), cmap = \"Blues\", annot=True, fmt = '.0f')"
   ]
  },
  {
   "cell_type": "code",
   "execution_count": null,
   "metadata": {
    "collapsed": false,
    "pycharm": {
     "name": "#%%\n"
    }
   },
   "outputs": [],
   "source": []
  },
  {
   "cell_type": "code",
   "execution_count": 18,
   "id": "552a6c46-33cc-481f-9854-a631dc9197e5",
   "metadata": {
    "pycharm": {
     "name": "#%%\n"
    }
   },
   "outputs": [],
   "source": [
    "ans2 = np.zeros(len(ans))\n",
    "for i in range(len(ans)):\n",
    "#     print(ans[i][0], \"---\", ans[i][1])\n",
    "    if ans[i][0] > ans[i][1]:\n",
    "        ans2[i] = 0\n",
    "    else:\n",
    "        ans2[i] = 1"
   ]
  },
  {
   "cell_type": "code",
   "execution_count": 19,
   "id": "24997bbf",
   "metadata": {},
   "outputs": [
    {
     "data": {
      "text/plain": [
       "<AxesSubplot:>"
      ]
     },
     "execution_count": 19,
     "metadata": {},
     "output_type": "execute_result"
    },
    {
     "data": {
      "image/png": "[encoded data removed]",
      "text/plain": [
       "<Figure size 432x288 with 2 Axes>"
      ]
     },
     "metadata": {
      "needs_background": "light"
     },
     "output_type": "display_data"
    }
   ],
   "source": [
    "sns.heatmap(confusion_matrix(y_test, ans2), cmap = \"Blues\", annot=True, fmt = '.0f')"
   ]
  },
  {
   "cell_type": "code",
   "execution_count": null,
   "id": "8012d479",
   "metadata": {},
   "outputs": [],
   "source": []
  }
 ],
 "metadata": {
  "interpreter": {
   "hash": "b3159c4c932bbde27ad02d74ebe193d734f20c37c937a1fda62e013034a62a97"
  },
  "kernelspec": {
   "display_name": "Python 3.9.13 64-bit (windows store)",
   "language": "python",
   "name": "python3"
  },
  "language_info": {
   "codemirror_mode": {
    "name": "ipython",
    "version": 3
   },
   "file_extension": ".py",
   "mimetype": "text/x-python",
   "name": "python",
   "nbconvert_exporter": "python",
   "pygments_lexer": "ipython3",
   "version": "3.9.13"
  }
 },
 "nbformat": 4,
 "nbformat_minor": 5
}
